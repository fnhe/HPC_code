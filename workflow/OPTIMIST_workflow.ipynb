{
 "cells": [
  {
   "cell_type": "markdown",
   "id": "charitable-dictionary",
   "metadata": {
    "ExecuteTime": {
     "end_time": "2022-12-19T22:14:56.149830Z",
     "start_time": "2022-12-19T22:14:56.144890Z"
    }
   },
   "source": [
    "\n",
    "**Table of Contents**\n",
    " \n",
    "1. [RNAseq](#RNAseq)     <br>\n",
    "    * [1.1 Trim](#RNAseq_trim)<br>\n",
    "    * [1.2 Gene expression](#RNAseq_exp)<br>\n",
    "    * [1.3 Fusion](#RNAseq_fusion)<br>\n",
    "    * [1.4 RNAseQC](#RNAseq_rnaseqc)<br>\n",
    "2. [DNAseq](#DNAseq) <br>\n",
    "    * [2.1 Generate bam](#DNAseq_bam)<br>\n",
    "        * [2.1.1 Trim](#DNAseq_trim)<br>\n",
    "        * [2.1.2 GATK best practice](#DNAseq_gatk)<br>\n",
    "    * [2.2 Mutation calling](#DNAseq_snv)<br>\n",
    "        * [2.2.1 Strelka](#DNAseq_strelka)<br>\n",
    "        * [2.2.2 Varscan](#DNAseq_varscan)<br>\n",
    "        * [2.2.3 Mutect](#DNAseq_mutect)<br>\n",
    "        * [2.2.4 Pindel](#DNAseq_pindel)<br>\n",
    "    * [2.3 Copy number variations](#DNAseq_cnv)<br>\n",
    "        * [2.3.1 CNVkit](#DNAseq_cnvkit)<br>\n",
    "        * [2.3.2 Sequenza](#DNAseq_seqz)<br>\n",
    "        * [2.3.3 PureCN](#DNAseq_purecn)<br>"
   ]
  },
  {
   "cell_type": "markdown",
   "id": "biological-opening",
   "metadata": {},
   "source": [
    "## <a class  = \"anchor\" id=\"RNAseq\"></a>  RNAseq \n",
    "---"
   ]
  },
  {
   "attachments": {
    "image.png": {
     "image/png": "[encoded data removed]"
    }
   },
   "cell_type": "markdown",
   "id": "swiss-chicken",
   "metadata": {
    "ExecuteTime": {
     "end_time": "2022-12-19T19:28:18.221201Z",
     "start_time": "2022-12-19T19:28:18.216425Z"
    }
   },
   "source": [
    "- input: rna_fq.ls\n",
    "![image.png](attachment:image.png)\n",
    "    \n",
    "- script: generate_sh.pl\n",
    "- generate shell file:\n",
    "`perl /home/hef/2.project/2.OPTIMIST/2.RNA/generate_sh.pl rna_fq.ls`"
   ]
  },
  {
   "cell_type": "markdown",
   "id": "visible-announcement",
   "metadata": {},
   "source": [
    "\n",
    "### <a id=\"RNAseq_trim\"></a> Trim"
   ]
  },
  {
   "cell_type": "markdown",
   "id": "municipal-auction",
   "metadata": {},
   "source": [
    "- input: fastq\n",
    "- output: trimmed fastq"
   ]
  },
  {
   "cell_type": "markdown",
   "id": "proud-litigation",
   "metadata": {
    "ExecuteTime": {
     "end_time": "2022-12-19T19:25:40.916526Z",
     "start_time": "2022-12-19T19:25:40.910396Z"
    }
   },
   "source": [
    "trim_galore:\n",
    "\n",
    "\n",
    "`trim_galore --phred33 --fastqc --length 50 -q 20 --dont_gzip -o /project/gccri/OPTIMIST/analysis/RNA/1.trim/trimmed_fq --paired /project/gccri/OPTIMIST/fastq/RNA/Sample_OPTIMIST-0020-01A-SS-005/OPTIMIST-0020-01A-SS-005_R1.fastq /project/gccri/OPTIMIST/fastq/RNA/Sample_OPTIMIST-0020-01A-SS-005/OPTIMIST-0020-01A-SS-005_R2.fastq\n",
    "`"
   ]
  },
  {
   "cell_type": "markdown",
   "id": "greenhouse-mention",
   "metadata": {
    "ExecuteTime": {
     "end_time": "2022-12-19T19:33:56.884108Z",
     "start_time": "2022-12-19T19:33:56.879844Z"
    }
   },
   "source": [
    "link and rename fastq file:\n",
    "\n",
    "`ln -s /project/gccri/OPTIMIST/analysis/RNA/1.trim/trimmed_fq/OPTIMIST-0020-01A-SS-005_R1_val_1.fq /project/gccri/OPTIMIST/analysis/RNA/1.trim/Final_fq/OPTIMIST-0020-01A-SS-005.R1.fq \n",
    "ln -s /project/gccri/OPTIMIST/analysis/RNA/1.trim/trimmed_fq/OPTIMIST-0020-01A-SS-005_R2_val_2.fq /project/gccri/OPTIMIST/analysis/RNA/1.trim/Final_fq/OPTIMIST-0020-01A-SS-005.R2.fq\n",
    "`"
   ]
  },
  {
   "cell_type": "markdown",
   "id": "excited-franchise",
   "metadata": {
    "ExecuteTime": {
     "end_time": "2022-12-19T19:34:00.571387Z",
     "start_time": "2022-12-19T19:34:00.567551Z"
    }
   },
   "source": [
    "### <a id=\"RNAseq_exp\"></a>Gene expression"
   ]
  },
  {
   "cell_type": "markdown",
   "id": "maritime-profession",
   "metadata": {},
   "source": [
    "- input: fastq/bam\n",
    "- output: gene expression matrix\n",
    "- other files: \n",
    "    gencode.v22.all_transcripts.fa.idx;\n",
    "    gencode.v22.annotation.gff3;"
   ]
  },
  {
   "cell_type": "markdown",
   "id": "living-german",
   "metadata": {
    "ExecuteTime": {
     "end_time": "2022-12-19T19:41:56.841231Z",
     "start_time": "2022-12-19T19:41:56.817654Z"
    }
   },
   "source": [
    "kallisto: \n",
    "\n",
    "`\n",
    "kallisto quant -i /home/hef/Data/hg38/optimist_ref/gencodev22/gencode.v22.all_transcripts.fa.idx -o /project/gccri/OPTIMIST/analysis/RNA/2.exp/1.kallisto/OPTIMIST-0020-01A-SS-005 -t 8 --plaintext /project/gccri/OPTIMIST/analysis/RNA/1.trim/Final_fq/OPTIMIST-0020-01A-SS-005.R1.fq /project/gccri/OPTIMIST/analysis/RNA/1.trim/Final_fq/OPTIMIST-0020-01A-SS-005.R2.fq\n",
    "`"
   ]
  },
  {
   "cell_type": "markdown",
   "id": "polyphonic-spoke",
   "metadata": {},
   "source": [
    "RSEM:\n",
    "- run rsem (PRADA2):\n",
    "\n",
    "`\n",
    "source /home/hef/Tools/miniconda3/etc/profile.d/conda.sh;conda activate py2\n",
    "python /home/hef/Tools/PRADA2-master/prada2.py --read1 /project/gccri/OPTIMIST/analysis/RNA/1.trim/Final_fq/OPTIMIST-0020-01A-SS-005.R1.fq --read2 /project/gccri/OPTIMIST/analysis/RNA/1.trim/Final_fq/OPTIMIST-0020-01A-SS-005.R2.fq --outdir /project/gccri/OPTIMIST/analysis/RNA/3.fusion/2.PRADA --rsem\n",
    "conda deactivate`\n",
    "\n",
    "`ln -s /project/gccri/OPTIMIST/analysis/RNA/3.fusion/2.PRADA/OPTIMIST-0020-01A-SS-005/rsem_results/rsem.genes.results /project/gccri/OPTIMIST/analysis/RNA/2.exp/2.rsem/OPTIMIST-0020-01A-SS-005.genes.results\n",
    "ln -s /project/gccri/OPTIMIST/analysis/RNA/3.fusion/2.PRADA/OPTIMIST-0020-01A-SS-005/rsem_results/rsem.isoforms.results /project/gccri/OPTIMIST/analysis/RNA/2.exp/2.rsem/OPTIMIST-0020-01A-SS-005.isoforms.results\n",
    "`"
   ]
  },
  {
   "cell_type": "markdown",
   "id": "raising-fields",
   "metadata": {
    "ExecuteTime": {
     "end_time": "2022-12-19T20:09:20.978803Z",
     "start_time": "2022-12-19T20:09:20.956372Z"
    }
   },
   "source": [
    "HTseq:\n",
    "- Sort:\n",
    "\n",
    "`samtools sort -m 2G -@ 8 -o /project/gccri/OPTIMIST/analysis/RNA/2.exp/3.htseq/OPTIMIST-0020-01A-SS-005.sorted.bam /project/gccri/OPTIMIST/analysis/RNA/3.fusion/1.star_fusion/OPTIMIST-0020-01A-SS-005/Aligned.out.bam\n",
    "samtools index /project/gccri/OPTIMIST/analysis/RNA/2.exp/3.htseq/OPTIMIST-0020-01A-SS-005.sorted.bam`\n",
    "- htseq:\n",
    "\n",
    "`htseq-count -s no -f bam -r pos -n 8 -t exon -i ID -m union --nonunique all /project/gccri/OPTIMIST/analysis/RNA/2.exp/3.htseq/OPTIMIST-0020-01A-SS-005.sorted.bam /home/hef/Data/hg38/optimist_ref/gencodev22/gencode.v22.annotation.gff3 --additional-attr=gene_id --additional-attr=gene_name --additional-attr=transcript_id --additional-attr=exon_number > /project/gccri/OPTIMIST/analysis/RNA/2.exp/3.htseq/OPTIMIST-0020-01A-SS-005.htseq.txt`\n",
    "\n",
    " "
   ]
  },
  {
   "cell_type": "markdown",
   "id": "engaged-immigration",
   "metadata": {
    "ExecuteTime": {
     "end_time": "2022-12-19T19:43:04.261770Z",
     "start_time": "2022-12-19T19:43:04.257945Z"
    }
   },
   "source": [
    "\n",
    "### <a id=\"RNAseq_fusion\"></a> Fusion"
   ]
  },
  {
   "cell_type": "markdown",
   "id": "occupied-accused",
   "metadata": {
    "ExecuteTime": {
     "end_time": "2022-12-19T19:49:46.298482Z",
     "start_time": "2022-12-19T19:49:46.295029Z"
    }
   },
   "source": [
    "- input: fastq\n",
    "- output: gene fusions\n",
    "- other files: \n",
    "    - STAR-Fusion: GRCh38_gencode_v22.star-fusion.v1.10"
   ]
  },
  {
   "cell_type": "markdown",
   "id": "provincial-scale",
   "metadata": {},
   "source": [
    "STAR-Fusion:\n",
    "\n",
    "`\n",
    "/home/hef/Tools/STAR-Fusion-v1.10.0/STAR-Fusion --genome_lib_dir /home/hef/Data/hg38/optimist_ref/GRCh38_gencode_v22.star-fusion.v1.10 --left_fq /project/gccri/OPTIMIST/analysis/RNA/1.trim/Final_fq/OPTIMIST-0020-01A-SS-005.R1.fq --right_fq /project/gccri/OPTIMIST/analysis/RNA/1.trim/Final_fq/OPTIMIST-0020-01A-SS-005.R2.fq --FusionInspector validate --examine_coding_effect --CPU 8 --output_dir /project/gccri/OPTIMIST/analysis/RNA/3.fusion/1.star_fusion/OPTIMIST-0020-01A-SS-005\n",
    "`"
   ]
  },
  {
   "cell_type": "markdown",
   "id": "derived-bradford",
   "metadata": {},
   "source": [
    "PRADA2: \n",
    "\n",
    "`\n",
    "source /home/hef/Tools/miniconda3/etc/profile.d/conda.sh\n",
    "conda activate prada\n",
    "python /home/hef/Tools/PRADA2-master/prada2.py --read1 /project/gccri/OPTIMIST/analysis/RNA/1.trim/Final_fq/OPTIMIST-0020-01A-SS-005.R1.fq --read2 /project/gccri/OPTIMIST/analysis/RNA/1.trim/Final_fq/OPTIMIST-0020-01A-SS-005.R2.fq --outdir /project/gccri/OPTIMIST/analysis/RNA/3.fusion/2.PRADA\n",
    "python /home/hef/Tools/PRADA2-master/prada2.py --read1 /project/gccri/OPTIMIST/analysis/RNA/1.trim/Final_fq/OPTIMIST-0020-01A-SS-005.R1.fq --read2 /project/gccri/OPTIMIST/analysis/RNA/1.trim/Final_fq/OPTIMIST-0020-01A-SS-005.R2.fq --outdir /project/gccri/OPTIMIST/analysis/RNA/3.fusion/2.PRADA --fusion\n",
    "conda deactivate\n",
    "`\n"
   ]
  },
  {
   "cell_type": "markdown",
   "id": "careful-colorado",
   "metadata": {},
   "source": [
    "### <a id=\"RNAseq_rnaseqc\"></a>  RNASeQC"
   ]
  },
  {
   "cell_type": "markdown",
   "id": "retired-thriller",
   "metadata": {
    "ExecuteTime": {
     "end_time": "2022-12-19T20:20:41.235971Z",
     "start_time": "2022-12-19T20:20:41.230723Z"
    }
   },
   "source": [
    "- input: bam\n",
    "- output: metrics.tsv\n",
    "- other files: gencode.v22.genes.gtf"
   ]
  },
  {
   "cell_type": "markdown",
   "id": "south-keyboard",
   "metadata": {},
   "source": [
    "`rnaseqc /home/hef/Data/hg38/gencode.v22.genes.gtf /project/gccri/OPTIMIST/analysis/RNA/2.exp/3.htseq/OPTIMIST-0020-01A-SS-005.sorted.bam --coverage /project/gccri/OPTIMIST/analysis/RNA/4.rnaseqc/OPTIMIST-0020-01A-SS-005`"
   ]
  },
  {
   "cell_type": "markdown",
   "id": "hearing-wednesday",
   "metadata": {
    "ExecuteTime": {
     "end_time": "2022-12-19T20:22:47.402080Z",
     "start_time": "2022-12-19T20:22:47.389803Z"
    }
   },
   "source": [
    "## <a id=\"DNAseq\"></a>  DNAseq\n",
    "---"
   ]
  },
  {
   "attachments": {
    "image-2.png": {
     "image/png": "[encoded data removed]"
    },
    "image.png": {
     "image/png": "[encoded data removed]"
    }
   },
   "cell_type": "markdown",
   "id": "outdoor-exclusive",
   "metadata": {},
   "source": [
    "- input: \n",
    "    - dna_fq.ls\n",
    "    ![image.png](attachment:image.png)\n",
    "    - paired.ls:\n",
    "    ![image-2.png](attachment:image-2.png)\n",
    "- script: 1.generate_bam.pl  2.generate_snv.pl  3.generate_cnv.pl\n",
    "- generate shell file:\n",
    "\n",
    "`perl 1.generate_bam.pl dna_fq.ls\n",
    "perl 2.generate_snv.pl paired.ls\n",
    "perl 3.generate_cnv.pl paired.ls`"
   ]
  },
  {
   "cell_type": "markdown",
   "id": "attempted-campaign",
   "metadata": {
    "ExecuteTime": {
     "end_time": "2022-12-19T20:44:04.179811Z",
     "start_time": "2022-12-19T20:44:04.177440Z"
    }
   },
   "source": [
    "### <a id=\"DNAseq_bam\"></a>Generate bam"
   ]
  },
  {
   "cell_type": "markdown",
   "id": "moving-herald",
   "metadata": {},
   "source": [
    "#### <a id=\"DNAseq_trim\"></a>Trim"
   ]
  },
  {
   "cell_type": "markdown",
   "id": "little-mortgage",
   "metadata": {
    "ExecuteTime": {
     "end_time": "2022-12-19T20:45:24.350853Z",
     "start_time": "2022-12-19T20:45:24.345239Z"
    }
   },
   "source": [
    "`trim_galore --phred33 --fastqc --length 50 -q 20 -o /project/gccri/OPTIMIST/analysis/DNA/1.trim/trimmed_fq --paired /project/gccri/OPTIMIST/fastq/DNA/OPTIMIST-0020-01A-SS-001_R1.fastq.gz /project/gccri/OPTIMIST/fastq/DNA/OPTIMIST-0020-01A-SS-001_R2.fastq.gz\n",
    "ln -s /project/gccri/OPTIMIST/analysis/DNA/1.trim/trimmed_fq/OPTIMIST-0020-01A-SS-001_R1_val_1.fq.gz /project/gccri/OPTIMIST/analysis/DNA/1.trim/Final_fq/OPTIMIST-0020-01A-SS-001.R1.fq.gz\n",
    "ln -s /project/gccri/OPTIMIST/analysis/DNA/1.trim/trimmed_fq/OPTIMIST-0020-01A-SS-001_R2_val_2.fq.gz /project/gccri/OPTIMIST/analysis/DNA/1.trim/Final_fq/OPTIMIST-0020-01A-SS-001.R2.fq.gz`"
   ]
  },
  {
   "cell_type": "markdown",
   "id": "mediterranean-costa",
   "metadata": {},
   "source": [
    "#### <a id=\"DNAseq_gatk\"></a>GATK best practice"
   ]
  },
  {
   "cell_type": "markdown",
   "id": "prepared-entertainment",
   "metadata": {},
   "source": [
    "- input: fastq\n",
    "- output: bam\n",
    "- other files:\n",
    "    - Homo_sapiens_assembly38.fasta\n",
    "    - Homo_sapiens_assembly38.dbsnp138.vcf\n",
    "    - 1000G_phase1.snps.high_confidence.hg38.vcf\n",
    "    - Mills_and_1000G_gold_standard.indels.hg38.vcf\n",
    "    - Homo_sapiens_assembly38.known_indels.vcf"
   ]
  },
  {
   "cell_type": "markdown",
   "id": "cardiac-albert",
   "metadata": {
    "ExecuteTime": {
     "end_time": "2022-12-19T20:49:55.382759Z",
     "start_time": "2022-12-19T20:49:55.337687Z"
    }
   },
   "source": [
    "Generate bam:\n",
    "\n",
    "`\n",
    "bwa mem -t 8 -M -R \"@RG\\tID:OPTIMIST-0020-01A-SS-001\\tPL:illumina\\tLB:OPTIMIST-0020-01A-SS-001\\tPU:OPTIMIST-0020-01A-SS-001\\tSM:OPTIMIST-0020-01A-SS-001\" /home/hef/Data/hg38/resources_broad_hg38_v0/Homo_sapiens_assembly38.fasta /project/gccri/OPTIMIST/analysis/DNA/1.trim/Final_fq/OPTIMIST-0020-01A-SS-001.R1.fq.gz /project/gccri/OPTIMIST/analysis/DNA/1.trim/Final_fq/OPTIMIST-0020-01A-SS-001.R2.fq.gz|samtools view -Shb -o /project/gccri/OPTIMIST/analysis/DNA/2.gatk/OPTIMIST-0020-01A-SS-001.bam -`\n",
    "\n",
    "AddOrReplaceReadGroups:\n",
    "\n",
    "`\n",
    "java -Xmx16g -Djava.io.tmpdir=/home/hef/2.project/2.OPTIMIST/1.DNA/tmp -jar /home/hef/Tools/miniconda3/bin/picard.jar AddOrReplaceReadGroups I=/project/gccri/OPTIMIST/analysis/DNA/2.gatk/OPTIMIST-0020-01A-SS-001.bam O=/project/gccri/OPTIMIST/analysis/DNA/2.gatk/OPTIMIST-0020-01A-SS-001.added.sorted.bam SO=coordinate RGLB=OPTIMIST-0020-01A-SS-001 RGPL=illumina RGPU=OPTIMIST-0020-01A-SS-001 RGSM=OPTIMIST-0020-01A-SS-001\n",
    "samtools flagstat /project/gccri/OPTIMIST/analysis/DNA/2.gatk/OPTIMIST-0020-01A-SS-001.added.sorted.bam > /project/gccri/OPTIMIST/analysis/DNA/2.gatk/OPTIMIST-0020-01A-SS-001.mapping.txt\n",
    "`\n",
    "\n",
    "MarkDuplicates:\n",
    "\n",
    "`\n",
    "java -Xmx16g -Djava.io.tmpdir=/home/hef/2.project/2.OPTIMIST/1.DNA/tmp -jar /home/hef/Tools/miniconda3/bin/picard.jar MarkDuplicates I=/project/gccri/OPTIMIST/analysis/DNA/2.gatk/OPTIMIST-0020-01A-SS-001.added.sorted.bam O=/project/gccri/OPTIMIST/analysis/DNA/2.gatk/OPTIMIST-0020-01A-SS-001.added.dedupped.bam VALIDATION_STRINGENCY=SILENT CREATE_INDEX=true M=/project/gccri/OPTIMIST/analysis/DNA/2.gatk/OPTIMIST-0020-01A-SS-001.dedup.metrics.txt\n",
    "`\n",
    "\n",
    "Realigner:\n",
    "\n",
    "`\n",
    "java -Xmx16g -Djava.io.tmpdir=/home/hef/2.project/2.OPTIMIST/1.DNA/tmp -jar /home/hef/Tools/gatk-4.2.3.0/GenomeAnalysisTK.jar -T RealignerTargetCreator -nt 8 -R /home/hef/Data/hg38/resources_broad_hg38_v0/Homo_sapiens_assembly38.fasta -I /project/gccri/OPTIMIST/analysis/DNA/2.gatk/OPTIMIST-0020-01A-SS-001.added.dedupped.bam -known /home/hef/Data/hg38/resources_broad_hg38_v0/Mills_and_1000G_gold_standard.indels.hg38.vcf -known /home/hef/Data/hg38/resources_broad_hg38_v0/Homo_sapiens_assembly38.known_indels.vcf -o /project/gccri/OPTIMIST/analysis/DNA/2.gatk/OPTIMIST-0020-01A-SS-001.intervals.list\n",
    "java -Xmx16g -Djava.io.tmpdir=/home/hef/2.project/2.OPTIMIST/1.DNA/tmp -jar /home/hef/Tools/gatk-4.2.3.0/GenomeAnalysisTK.jar -T IndelRealigner -R /home/hef/Data/hg38/resources_broad_hg38_v0/Homo_sapiens_assembly38.fasta -I /project/gccri/OPTIMIST/analysis/DNA/2.gatk/OPTIMIST-0020-01A-SS-001.added.dedupped.bam -known /home/hef/Data/hg38/resources_broad_hg38_v0/Mills_and_1000G_gold_standard.indels.hg38.vcf -known /home/hef/Data/hg38/resources_broad_hg38_v0/Homo_sapiens_assembly38.known_indels.vcf -targetIntervals /project/gccri/OPTIMIST/analysis/DNA/2.gatk/OPTIMIST-0020-01A-SS-001.intervals.list  -o /project/gccri/OPTIMIST/analysis/DNA/2.gatk/OPTIMIST-0020-01A-SS-001.dedupped.realigned.bam\n",
    "`\n",
    "\n",
    "BaseRecalibrator:\n",
    "\n",
    "`\n",
    "java -Xmx16g -Djava.io.tmpdir=/home/hef/2.project/2.OPTIMIST/1.DNA/tmp -jar /home/hef/Tools/gatk-4.2.3.0/GenomeAnalysisTK.jar -T BaseRecalibrator -nct 8 -R /home/hef/Data/hg38/resources_broad_hg38_v0/Homo_sapiens_assembly38.fasta -I /project/gccri/OPTIMIST/analysis/DNA/2.gatk/OPTIMIST-0020-01A-SS-001.dedupped.realigned.bam --knownSites /home/hef/Data/hg38/resources_broad_hg38_v0/1000G_phase1.snps.high_confidence.hg38.vcf --knownSites /home/hef/Data/hg38/resources_broad_hg38_v0/Homo_sapiens_assembly38.dbsnp138.vcf --knownSites /home/hef/Data/hg38/resources_broad_hg38_v0/Mills_and_1000G_gold_standard.indels.hg38.vcf --knownSites /home/hef/Data/hg38/resources_broad_hg38_v0/Homo_sapiens_assembly38.known_indels.vcf -o /project/gccri/OPTIMIST/analysis/DNA/2.gatk/OPTIMIST-0020-01A-SS-001.data.table\n",
    "java -Xmx16g -Djava.io.tmpdir=/home/hef/2.project/2.OPTIMIST/1.DNA/tmp -jar /home/hef/Tools/gatk-4.2.3.0/GenomeAnalysisTK.jar -T PrintReads -nct 8 -R /home/hef/Data/hg38/resources_broad_hg38_v0/Homo_sapiens_assembly38.fasta -I /project/gccri/OPTIMIST/analysis/DNA/2.gatk/OPTIMIST-0020-01A-SS-001.dedupped.realigned.bam -BQSR /project/gccri/OPTIMIST/analysis/DNA/2.gatk/OPTIMIST-0020-01A-SS-001.data.table -o /project/gccri/OPTIMIST/analysis/DNA/2.gatk/OPTIMIST-0020-01A-SS-001.dedupped.realigned.recal.bam\n",
    "`"
   ]
  },
  {
   "cell_type": "markdown",
   "id": "stopped-governor",
   "metadata": {},
   "source": [
    "### <a id=\"DNAseq_snv\"></a> Mutation calling"
   ]
  },
  {
   "cell_type": "markdown",
   "id": "general-container",
   "metadata": {},
   "source": [
    "- input: recal.bam\n",
    "- output: vcf\n",
    "- otherfiles:\n",
    "    - gatk4_mutect2_4136_pon.vcf.gz\n",
    "    - af-only-gnomad.hg38.vcf.gz\n",
    "    - wgs_calling_regions.hg38.interval_list\n",
    "    - hg38.centromere_telomere.bed"
   ]
  },
  {
   "cell_type": "markdown",
   "id": "exclusive-testament",
   "metadata": {},
   "source": [
    "#### <a id=\"DNAseq_strelka\"></a>Strelka"
   ]
  },
  {
   "cell_type": "markdown",
   "id": "expired-bones",
   "metadata": {
    "ExecuteTime": {
     "end_time": "2022-12-19T21:12:36.281924Z",
     "start_time": "2022-12-19T21:12:36.236860Z"
    }
   },
   "source": [
    "\n",
    "\n",
    "runManta (for large in-frame indels):\n",
    "\n",
    "`source /home/hef/Tools/miniconda3/etc/profile.d/conda.sh;conda activate py2\n",
    "configManta.py --normalBam=/project/gccri/OPTIMIST/analysis/DNA/2.gatk/OPTIMIST-0020-10A-SS-001.dedupped.realigned.recal.bam --tumorBam=/project/gccri/OPTIMIST/analysis/DNA/2.gatk/OPTIMIST-0020-01A-SS-001.dedupped.realigned.recal.bam --referenceFasta=/home/hef/Data/hg38/resources_broad_hg38_v0/Homo_sapiens_assembly38.fasta  --runDir=/project/gccri/OPTIMIST/analysis/DNA/3.snv/OPTIMIST-0020-01A-SS-001/strelka/manta\n",
    "/project/gccri/OPTIMIST/analysis/DNA/3.snv/OPTIMIST-0020-01A-SS-001/strelka/manta/runWorkflow.py -j 4 -g 4 >>/project/gccri/OPTIMIST/analysis/DNA/3.snv/OPTIMIST-0020-01A-SS-001/strelka_run.log 2>&1\n",
    "`\n",
    "\n",
    "run Strelka:\n",
    "\n",
    "`\n",
    "configureStrelkaSomaticWorkflow.py --normalBam=/project/gccri/OPTIMIST/analysis/DNA/2.gatk/OPTIMIST-0020-10A-SS-001.dedupped.realigned.recal.bam --tumorBam=/project/gccri/OPTIMIST/analysis/DNA/2.gatk/OPTIMIST-0020-01A-SS-001.dedupped.realigned.recal.bam --referenceFasta=/home/hef/Data/hg38/resources_broad_hg38_v0/Homo_sapiens_assembly38.fasta --callMemMb=2048  --runDir=/project/gccri/OPTIMIST/analysis/DNA/3.snv/OPTIMIST-0020-01A-SS-001/strelka --indelCandidates=/project/gccri/OPTIMIST/analysis/DNA/3.snv/OPTIMIST-0020-01A-SS-001/strelka/manta/results/variants/candidateSmallIndels.vcf.gz >/project/gccri/OPTIMIST/analysis/DNA/3.snv/OPTIMIST-0020-01A-SS-001/strelka_run.log 2>&1\n",
    "/project/gccri/OPTIMIST/analysis/DNA/3.snv/OPTIMIST-0020-01A-SS-001/strelka/runWorkflow.py -m local -j 4 -g 4 >>/project/gccri/OPTIMIST/analysis/DNA/3.snv/OPTIMIST-0020-01A-SS-001/strelka_run.log 2>&1\n",
    "`\n",
    "\n",
    "Generate vcf:\n",
    "\n",
    "`\n",
    "less /project/gccri/OPTIMIST/analysis/DNA/3.snv/OPTIMIST-0020-01A-SS-001/strelka/results/variants/somatic.snvs.vcf.gz|bcftools view -i 'FILTER=\"PASS\"'>/project/gccri/OPTIMIST/analysis/DNA/3.snv/OPTIMIST-0020-01A-SS-001/strelka/strelka.snvs.vcf\n",
    "less /project/gccri/OPTIMIST/analysis/DNA/3.snv/OPTIMIST-0020-01A-SS-001/strelka/results/variants/somatic.indels.vcf.gz|bcftools view -i 'FILTER=\"PASS\"'>/project/gccri/OPTIMIST/analysis/DNA/3.snv/OPTIMIST-0020-01A-SS-001/strelka/strelka.indels.vcf\n",
    "`\n",
    "\n",
    "Merge:\n",
    "\n",
    "`\n",
    "picard MergeVcfs I=/project/gccri/OPTIMIST/analysis/DNA/3.snv/OPTIMIST-0020-01A-SS-001/strelka/results/variants/somatic.snvs.vcf.gz I=/project/gccri/OPTIMIST/analysis/DNA/3.snv/OPTIMIST-0020-01A-SS-001/strelka/results/variants/somatic.indels.vcf.gz O=/project/gccri/OPTIMIST/analysis/DNA/3.snv/OPTIMIST-0020-01A-SS-001/strelka/somatic.merge.vcf\n",
    "bcftools view -f PASS /project/gccri/OPTIMIST/analysis/DNA/3.snv/OPTIMIST-0020-01A-SS-001/strelka/somatic.merge.vcf >  /project/gccri/OPTIMIST/analysis/DNA/3.snv/OPTIMIST-0020-01A-SS-001/strelka/somatic.merge.filter.vcf\n",
    "vcf-genotype-annotator /project/gccri/OPTIMIST/analysis/DNA/3.snv/OPTIMIST-0020-01A-SS-001/strelka/somatic.merge.filter.vcf TUMOR 0/1 -o /project/gccri/OPTIMIST/analysis/DNA/3.snv/OPTIMIST-0020-01A-SS-001/OPTIMIST-0020-01A-SS-001.strelka.vcf\n",
    "`"
   ]
  },
  {
   "cell_type": "markdown",
   "id": "european-essence",
   "metadata": {},
   "source": [
    "#### <a id=\"DNAseq_varscan\"></a>Varscan"
   ]
  },
  {
   "cell_type": "markdown",
   "id": "amended-generator",
   "metadata": {
    "ExecuteTime": {
     "end_time": "2022-12-19T22:01:47.335924Z",
     "start_time": "2022-12-19T22:01:47.331716Z"
    }
   },
   "source": [
    "- varscan_bam.ls(example): \n",
    "\n",
    "` normal_bam  tumor_bam`\n",
    "    "
   ]
  },
  {
   "cell_type": "markdown",
   "id": "funded-glossary",
   "metadata": {
    "ExecuteTime": {
     "end_time": "2022-12-19T21:17:24.640730Z",
     "start_time": "2022-12-19T21:17:24.621752Z"
    }
   },
   "source": [
    "Run Varscan:\n",
    "\n",
    "`samtools mpileup -q 1 -Q 13 -f /home/hef/Data/hg38/resources_broad_hg38_v0/Homo_sapiens_assembly38.fasta -b /project/gccri/OPTIMIST/analysis/DNA/3.snv/OPTIMIST-0020-01A-SS-001/varscan/varscan_bam.ls|varscan somatic - /project/gccri/OPTIMIST/analysis/DNA/3.snv/OPTIMIST-0020-01A-SS-001/varscan/varscan.out.som --mpileup 1 --output-vcf 1 --output-snp /project/gccri/OPTIMIST/analysis/DNA/3.snv/OPTIMIST-0020-01A-SS-001/varscan/varscan_snp --output-indel /project/gccri/OPTIMIST/analysis/DNA/3.snv/OPTIMIST-0020-01A-SS-001/varscan/varscan_indel > /project/gccri/OPTIMIST/analysis/DNA/3.snv/OPTIMIST-0020-01A-SS-001/varscan_run.log 2>&1`\n",
    "\n",
    "Generate somatic mutations:\n",
    "\n",
    "`\n",
    "varscan processSomatic /project/gccri/OPTIMIST/analysis/DNA/3.snv/OPTIMIST-0020-01A-SS-001/varscan/varscan_indel.vcf\n",
    "varscan processSomatic /project/gccri/OPTIMIST/analysis/DNA/3.snv/OPTIMIST-0020-01A-SS-001/varscan/varscan_snp.vcf\n",
    "varscan somaticFilter /project/gccri/OPTIMIST/analysis/DNA/3.snv/OPTIMIST-0020-01A-SS-001/varscan/varscan_snp.Somatic.hc.vcf  --indel-file /project/gccri/OPTIMIST/analysis/DNA/3.snv/OPTIMIST-0020-01A-SS-001/varscan/varscan_indel.Somatic.hc.vcf --output-file /project/gccri/OPTIMIST/analysis/DNA/3.snv/OPTIMIST-0020-01A-SS-001/varscan/varscan.filtered.snv.vcf\n",
    "varscan somaticFilter /project/gccri/OPTIMIST/analysis/DNA/3.snv/OPTIMIST-0020-01A-SS-001/varscan/varscan_indel.Somatic.hc.vcf --output-file /project/gccri/OPTIMIST/analysis/DNA/3.snv/OPTIMIST-0020-01A-SS-001/varscan/varscan.filtered.indel.vcf\n",
    "`\n",
    "\n",
    "Merge & filter:\n",
    "\n",
    "`\n",
    "bgzip /project/gccri/OPTIMIST/analysis/DNA/3.snv/OPTIMIST-0020-01A-SS-001/varscan/varscan.filtered.indel.vcf; tabix -p vcf /project/gccri/OPTIMIST/analysis/DNA/3.snv/OPTIMIST-0020-01A-SS-001/varscan/varscan.filtered.indel.vcf.gz\n",
    "bgzip /project/gccri/OPTIMIST/analysis/DNA/3.snv/OPTIMIST-0020-01A-SS-001/varscan/varscan.filtered.snv.vcf; tabix -p vcf /project/gccri/OPTIMIST/analysis/DNA/3.snv/OPTIMIST-0020-01A-SS-001/varscan/varscan.filtered.snv.vcf.gz\n",
    "bcftools concat -a /project/gccri/OPTIMIST/analysis/DNA/3.snv/OPTIMIST-0020-01A-SS-001/varscan/varscan.filtered.indel.vcf.gz /project/gccri/OPTIMIST/analysis/DNA/3.snv/OPTIMIST-0020-01A-SS-001/varscan/varscan.filtered.snv.vcf.gz > /project/gccri/OPTIMIST/analysis/DNA/3.snv/OPTIMIST-0020-01A-SS-001/varscan/varscan.filtered.merge.vcf\n",
    "perl /home/hef/Tools/fpfilter.pl --vcf-file  /project/gccri/OPTIMIST/analysis/DNA/3.snv/OPTIMIST-0020-01A-SS-001/varscan/varscan.filtered.merge.vcf --bam-file /project/gccri/OPTIMIST/analysis/DNA/2.gatk/OPTIMIST-0020-01A-SS-001.dedupped.realigned.recal.bam  --sample TUMOR --reference /home/hef/Data/hg38/resources_broad_hg38_v0/Homo_sapiens_assembly38.fasta --output /project/gccri/OPTIMIST/analysis/DNA/3.snv/OPTIMIST-0020-01A-SS-001/varscan/OPTIMIST-0020-01A-SS-001.varscan.result.vcf\n",
    "bcftools view -f PASS /project/gccri/OPTIMIST/analysis/DNA/3.snv/OPTIMIST-0020-01A-SS-001/varscan/OPTIMIST-0020-01A-SS-001.varscan.result.vcf > /project/gccri/OPTIMIST/analysis/DNA/3.snv/OPTIMIST-0020-01A-SS-001/OPTIMIST-0020-01A-SS-001.varscan.vcf\n",
    "`"
   ]
  },
  {
   "cell_type": "markdown",
   "id": "talented-antenna",
   "metadata": {},
   "source": [
    "#### <a id=\"DNAseq_mutect\"></a>Mutect"
   ]
  },
  {
   "cell_type": "markdown",
   "id": "allied-sherman",
   "metadata": {},
   "source": [
    "Run Mutect:\n",
    "\n",
    "`gatk Mutect2 -R /home/hef/Data/hg38/resources_broad_hg38_v0/Homo_sapiens_assembly38.fasta -L /home/hef/Data/files_liding/mutect/wgs_calling_regions.hg38.interval_list -I /project/gccri/OPTIMIST/analysis/DNA/2.gatk/OPTIMIST-0020-01A-SS-001.dedupped.realigned.recal.bam -tumor OPTIMIST-0020-01A-SS-001 -I /project/gccri/OPTIMIST/analysis/DNA/2.gatk/OPTIMIST-0020-10A-SS-001.dedupped.realigned.recal.bam -normal OPTIMIST-0020-10A-SS-001 --germline-resource /home/hef/Data/files_liding/mutect/af-only-gnomad.hg38.vcf.gz --panel-of-normals /home/hef/Data/files_liding/mutect/gatk4_mutect2_4136_pon.vcf.gz -O /project/gccri/OPTIMIST/analysis/DNA/3.snv/OPTIMIST-0020-01A-SS-001/mutect/mutect.raw.vcf > /project/gccri/OPTIMIST/analysis/DNA/3.snv/OPTIMIST-0020-01A-SS-001/mutect_run.log 2>&1\n",
    "`\n",
    "\n",
    "Filter:\n",
    "\n",
    "`\n",
    "gatk FilterMutectCalls -R /home/hef/Data/hg38/resources_broad_hg38_v0/Homo_sapiens_assembly38.fasta -V /project/gccri/OPTIMIST/analysis/DNA/3.snv/OPTIMIST-0020-01A-SS-001/mutect/mutect.raw.vcf -O /project/gccri/OPTIMIST/analysis/DNA/3.snv/OPTIMIST-0020-01A-SS-001/mutect/mutect.filter.vcf\n",
    "gatk SelectVariants -R /home/hef/Data/hg38/resources_broad_hg38_v0/Homo_sapiens_assembly38.fasta -V /project/gccri/OPTIMIST/analysis/DNA/3.snv/OPTIMIST-0020-01A-SS-001/mutect/mutect.filter.vcf -O /project/gccri/OPTIMIST/analysis/DNA/3.snv/OPTIMIST-0020-01A-SS-001/mutect/mutect.raw.snp.vcf --select-type-to-include SNP --select-type-to-include MNP;gatk SelectVariants -R /home/hef/Data/hg38/resources_broad_hg38_v0/Homo_sapiens_assembly38.fasta -V /project/gccri/OPTIMIST/analysis/DNA/3.snv/OPTIMIST-0020-01A-SS-001/mutect/mutect.filter.vcf -O /project/gccri/OPTIMIST/analysis/DNA/3.snv/OPTIMIST-0020-01A-SS-001/mutect/mutect.raw.indel.vcf --select-type-to-include INDEL\n",
    "less /project/gccri/OPTIMIST/analysis/DNA/3.snv/OPTIMIST-0020-01A-SS-001/mutect/mutect.raw.snp.vcf|bcftools view -i 'FILTER=\"PASS\"'>/project/gccri/OPTIMIST/analysis/DNA/3.snv/OPTIMIST-0020-01A-SS-001/mutect/mutect.fil.snp.vcf\n",
    "less /project/gccri/OPTIMIST/analysis/DNA/3.snv/OPTIMIST-0020-01A-SS-001/mutect/mutect.raw.indel.vcf|bcftools view -i 'FILTER=\"PASS\"'>/project/gccri/OPTIMIST/analysis/DNA/3.snv/OPTIMIST-0020-01A-SS-001/mutect/mutect.fil.indel.vcf\n",
    "`\n",
    "\n",
    "Merge:\n",
    "\n",
    "`\n",
    "picard MergeVcfs I=/project/gccri/OPTIMIST/analysis/DNA/3.snv/OPTIMIST-0020-01A-SS-001/mutect/mutect.fil.snp.vcf I=/project/gccri/OPTIMIST/analysis/DNA/3.snv/OPTIMIST-0020-01A-SS-001/mutect/mutect.fil.indel.vcf O=/project/gccri/OPTIMIST/analysis/DNA/3.snv/OPTIMIST-0020-01A-SS-001/OPTIMIST-0020-01A-SS-001.mutect.vcf\n",
    "`"
   ]
  },
  {
   "cell_type": "markdown",
   "id": "wired-psychology",
   "metadata": {},
   "source": [
    "#### <a id=\"DNAseq_pindel\"></a> Pindel"
   ]
  },
  {
   "attachments": {
    "image.png": {
     "image/png": "[encoded data removed]"
    }
   },
   "cell_type": "markdown",
   "id": "stable-skirt",
   "metadata": {},
   "source": [
    "- pindel.config (example): bam - insert size - id\n",
    "![image.png](attachment:image.png)"
   ]
  },
  {
   "cell_type": "markdown",
   "id": "nominated-collect",
   "metadata": {
    "ExecuteTime": {
     "end_time": "2022-12-19T21:53:27.412770Z",
     "start_time": "2022-12-19T21:53:27.408668Z"
    }
   },
   "source": [
    "- pindel.filter.config (example):\n",
    "\n",
    "`pindel.filter.variants_file = /project/gccri/OPTIMIST/analysis/DNA/3.snv/OPTIMIST-0020-01A-SS-001/pindel/all.header\n",
    "pindel.filter.pindel2vcf = /home/hef/Tools/miniconda3/bin/pindel2vcf\n",
    "pindel.filter.REF = /home/hef/Data/hg38/resources_broad_hg38_v0/Homo_sapiens_assembly38.fasta\n",
    "pindel.filter.heterozyg_min_var_allele_freq = 0.2\n",
    "pindel.filter.homozyg_min_var_allele_freq = 0.8\n",
    "pindel.filter.mode = somatic\n",
    "pindel.filter.apply_filter = true\n",
    "pindel.filter.somatic.min_coverages_t = 10\n",
    "pindel.filter.somatic.min_coverages_n = 3\n",
    "pindel.filter.somatic.min_var_allele_freq = 0.10\n",
    "pindel.filter.somatic.require_balanced_reads = true\n",
    "pindel.filter.somatic.remove_complex_indels = true\n",
    "pindel.filter.somatic.max_num_homopolymer_repeat_units = 6\n",
    "pindel.filter.date=20221225`"
   ]
  },
  {
   "cell_type": "markdown",
   "id": "light-invasion",
   "metadata": {
    "ExecuteTime": {
     "end_time": "2022-12-19T21:26:46.131944Z",
     "start_time": "2022-12-19T21:26:46.120494Z"
    }
   },
   "source": [
    "Run Pindel:\n",
    "\n",
    "`pindel -T 8 -f /home/hef/Data/hg38/resources_broad_hg38_v0/Homo_sapiens_assembly38.fasta -i /project/gccri/OPTIMIST/analysis/DNA/3.snv/OPTIMIST-0020-01A-SS-001/pindel/pindel.config --exclude /home/hef/Data/hg38/hg38.centromere_telomere.bed -o /project/gccri/OPTIMIST/analysis/DNA/3.snv/OPTIMIST-0020-01A-SS-001/pindel/pindel_raw >/project/gccri/OPTIMIST/analysis/DNA/3.snv/OPTIMIST-0020-01A-SS-001/pindel_run.log 2>&1\n",
    "cat /project/gccri/OPTIMIST/analysis/DNA/3.snv/OPTIMIST-0020-01A-SS-001/pindel/pindel*_D /project/gccri/OPTIMIST/analysis/DNA/3.snv/OPTIMIST-0020-01A-SS-001/pindel/pindel*_SI |grep ChrID > /project/gccri/OPTIMIST/analysis/DNA/3.snv/OPTIMIST-0020-01A-SS-001/pindel/all.header\n",
    "`\n",
    "\n",
    "Filter:\n",
    "\n",
    "`\n",
    "perl /home/hef/Tools/somaticwrapper-master/pindel_filter.v0.5.pl /project/gccri/OPTIMIST/analysis/DNA/3.snv/OPTIMIST-0020-01A-SS-001/pindel/pindel.filter.config\n",
    "vt normalize /project/gccri/OPTIMIST/analysis/DNA/3.snv/OPTIMIST-0020-01A-SS-001/pindel/all.header.CvgVafStrand_pass.Homopolymer_pass.vcf -r /home/hef/Data/hg38/resources_broad_hg38_v0/Homo_sapiens_assembly38.fasta -o /project/gccri/OPTIMIST/analysis/DNA/3.snv/OPTIMIST-0020-01A-SS-001/pindel/OPTIMIST-0020-01A-SS-001.indel.filter.output.norm.vcf -n\n",
    "perl /home/hef/2.project/1.PDX/4.DNAseq_mutation/1.somatic/1.paired/add_pindel_flag.pl /project/gccri/OPTIMIST/analysis/DNA/3.snv/OPTIMIST-0020-01A-SS-001/pindel/OPTIMIST-0020-01A-SS-001.indel.filter.output.norm.vcf > /project/gccri/OPTIMIST/analysis/DNA/3.snv/OPTIMIST-0020-01A-SS-001/pindel/OPTIMIST-0020-01A-SS-001.indel.filter.output.norm.flag.vcf\n",
    "vt normalize /project/gccri/OPTIMIST/analysis/DNA/3.snv/OPTIMIST-0020-01A-SS-001/pindel/all.header.CvgVafStrand_pass.Homopolymer_pass.vcf -r /home/hef/Data/hg38/resources_broad_hg38_v0/Homo_sapiens_assembly38.fasta -o /project/gccri/OPTIMIST/analysis/DNA/3.snv/OPTIMIST-0020-01A-SS-001/pindel/OPTIMIST-0020-01A-SS-001.indel.filter.output.norm.vcf -n\n",
    "perl /home/hef/2.project/1.PDX/4.DNAseq_mutation/1.somatic/1.paired/add_pindel_flag.pl /project/gccri/OPTIMIST/analysis/DNA/3.snv/OPTIMIST-0020-01A-SS-001/pindel/OPTIMIST-0020-01A-SS-001.indel.filter.output.norm.vcf > /project/gccri/OPTIMIST/analysis/DNA/3.snv/OPTIMIST-0020-01A-SS-001/pindel/OPTIMIST-0020-01A-SS-001.indel.filter.output.norm.flag.vcf\n",
    "`\n",
    "\n",
    "Generate vcf:\n",
    "\n",
    "`bcftools view -f PASS /project/gccri/OPTIMIST/analysis/DNA/3.snv/OPTIMIST-0020-01A-SS-001/pindel/OPTIMIST-0020-01A-SS-001.indel.filter.output.norm.flag.vcf > /project/gccri/OPTIMIST/analysis/DNA/3.snv/OPTIMIST-0020-01A-SS-001/OPTIMIST-0020-01A-SS-001.pindel.vcf\n",
    "`"
   ]
  },
  {
   "cell_type": "markdown",
   "id": "liable-cornell",
   "metadata": {},
   "source": [
    "### <a id=\"DNAseq_cnv\"></a> Copy number variations"
   ]
  },
  {
   "cell_type": "markdown",
   "id": "demographic-lesson",
   "metadata": {},
   "source": [
    "- input: bam\n",
    "- output: seg file"
   ]
  },
  {
   "cell_type": "markdown",
   "id": "aboriginal-arrangement",
   "metadata": {},
   "source": [
    "#### <a id=\"DNAseq_cnvkit\"></a> cnvkit"
   ]
  },
  {
   "cell_type": "markdown",
   "id": "useful-think",
   "metadata": {},
   "source": [
    "Link bam/bai files:\n",
    "`ln -s /project/gccri/OPTIMIST/analysis/DNA/2.gatk/OPTIMIST-0020-01A-SS-001.dedupped.realigned.recal.bam /project/gccri/OPTIMIST/analysis/DNA/4.cnv/cnvkit/OPTIMIST-0020-01A-SS-001/OPTIMIST-0020-01A-SS-001.T.bam\n",
    "ln -s /project/gccri/OPTIMIST/analysis/DNA/2.gatk/OPTIMIST-0020-01A-SS-001.dedupped.realigned.recal.bai /project/gccri/OPTIMIST/analysis/DNA/4.cnv/cnvkit/OPTIMIST-0020-01A-SS-001/OPTIMIST-0020-01A-SS-001.T.bam.bai\n",
    "ln -s /project/gccri/OPTIMIST/analysis/DNA/2.gatk/OPTIMIST-0020-10A-SS-001.dedupped.realigned.recal.bam /project/gccri/OPTIMIST/analysis/DNA/4.cnv/cnvkit/OPTIMIST-0020-01A-SS-001/OPTIMIST-0020-01A-SS-001.N.bam\n",
    "ln -s /project/gccri/OPTIMIST/analysis/DNA/2.gatk/OPTIMIST-0020-10A-SS-001.dedupped.realigned.recal.bai /project/gccri/OPTIMIST/analysis/DNA/4.cnv/cnvkit/OPTIMIST-0020-01A-SS-001/OPTIMIST-0020-01A-SS-001.N.bam.bai\n",
    "`\n",
    "\n",
    "Run cnvkit\n",
    " \n",
    "`bash /home/hef/Tools/cnvkit_liding/src/cnvkit_wxs.tumorNormal.v2.sh -C /home/hef/Tools/cnvkit_liding/config/config.gencode_grch38.mgi.ini -p -1.1,-0.4,0.3,0.7 -S OPTIMIST-0020-01A-SS-001 -N /project/gccri/OPTIMIST/analysis/DNA/4.cnv/cnvkit/OPTIMIST-0020-01A-SS-001/OPTIMIST-0020-01A-SS-001.N.bam -T /project/gccri/OPTIMIST/analysis/DNA/4.cnv/cnvkit/OPTIMIST-0020-01A-SS-001/OPTIMIST-0020-01A-SS-001.T.bam -O /project/gccri/OPTIMIST/analysis/DNA/4.cnv/cnvkit|sh`\n"
   ]
  },
  {
   "cell_type": "markdown",
   "id": "running-council",
   "metadata": {},
   "source": [
    "#### <a id=\"DNAseq_seqz\"></a>sequenza (for WES only)"
   ]
  },
  {
   "cell_type": "markdown",
   "id": "median-skiing",
   "metadata": {},
   "source": [
    "- Rscript (example):\n",
    "`\n",
    "library(sequenza) <br>\n",
    "data.file <- \"/project/gccri/OPTIMIST/analysis/DNA/4.cnv/seqz/OPTIMIST-0020-01A-SS-002/OPTIMIST-0020-01A-SS-002.seqz.gz\" <br>\n",
    "seqz <-sequenza.extract(data.file,verbose=FALSE) <br>\n",
    "CP <- sequenza.fit(seqz)<br>\n",
    "sequenza.results(sequenza.extract = seqz, cp.table = CP, sample.id = \"OPTIMIST-0020-01A-SS-002\", out.dir=\"/project/gccri/OPTIMIST/analysis/DNA/4.cnv/seqz/OPTIMIST-0020-01A-SS-002\")\n",
    "\n",
    "`"
   ]
  },
  {
   "cell_type": "markdown",
   "id": "nervous-fifteen",
   "metadata": {},
   "source": [
    "Generate seqz file:\n",
    "\n",
    "`\n",
    "/home/hef/Tools/miniconda3/bin/sequenza-utils bam2seqz -n /project/gccri/OPTIMIST/analysis/DNA/2.gatk/OPTIMIST-0020-10A-SS-002.dedupped.realigned.recal.bam -t /project/gccri/OPTIMIST/analysis/DNA/2.gatk/OPTIMIST-0020-01A-SS-002.dedupped.realigned.recal.bam --fasta /home/hef/Data/hg38/resources_broad_hg38_v0/Homo_sapiens_assembly38.fasta -gc /home/hef/Data/hg38/resources_broad_hg38_v0/hg38.gc50Base.wig.gz -o /project/gccri/OPTIMIST/analysis/DNA/4.cnv/seqz/OPTIMIST-0020-01A-SS-002/OPTIMIST-0020-01A-SS-002.seqz.gz\n",
    "less /project/gccri/OPTIMIST/analysis/DNA/4.cnv/seqz/OPTIMIST-0020-01A-SS-002/OPTIMIST-0020-01A-SS-002.seqz.gz|grep -v \"_random\" |bgzip > /project/gccri/OPTIMIST/analysis/DNA/4.cnv/seqz/OPTIMIST-0020-01A-SS-002/new.gz; mv /project/gccri/OPTIMIST/analysis/DNA/4.cnv/seqz/OPTIMIST-0020-01A-SS-002/new.gz /project/gccri/OPTIMIST/analysis/DNA/4.cnv/seqz/OPTIMIST-0020-01A-SS-002/OPTIMIST-0020-01A-SS-002.seqz.gz; tabix -f -s 1 -b 2 -e 2 -S 1 /project/gccri/OPTIMIST/analysis/DNA/4.cnv/seqz/OPTIMIST-0020-01A-SS-002/OPTIMIST-0020-01A-SS-002.seqz.gz\n",
    "`\n",
    "\n",
    "Run sequenza:\n",
    "\n",
    "`\n",
    "Rscript /project/gccri/OPTIMIST/analysis/DNA/4.cnv/seqz/OPTIMIST-0020-01A-SS-002.r > /project/gccri/OPTIMIST/analysis/DNA/4.cnv/seqz/OPTIMIST-0020-01A-SS-002.log 2>&1\n",
    "`\n"
   ]
  },
  {
   "cell_type": "markdown",
   "id": "stock-david",
   "metadata": {},
   "source": [
    "#### <a id=\"DNAseq_purecn\"></a>pureCN "
   ]
  },
  {
   "cell_type": "markdown",
   "id": "rotary-imagination",
   "metadata": {},
   "source": [
    "Convert cnvkit_cnr to seg: \n",
    "\n",
    "`cnvkit.py export seg /project/gccri/OPTIMIST/analysis/DNA/4.cnv/cnvkit/OPTIMIST-0020-01A-SS-001/OPTIMIST-0020-01A-SS-001.T.cns --enumerate-chroms -o /project/gccri/OPTIMIST/analysis/DNA/4.cnv/pureCN/OPTIMIST-0020-01A-SS-001/OPTIMIST-0020-01A-SS-001.seg\n",
    "`\n",
    "\n",
    "Run Mutect2 to call germline mutations:\n",
    "\n",
    "`\n",
    "gatk Mutect2 -R /home/hef/Data/hg38/resources_broad_hg38_v0/Homo_sapiens_assembly38.fasta -L /home/hef/Data/files_liding/mutect/wgs_calling_regions.hg38.interval_list -I /project/gccri/OPTIMIST/analysis/DNA/2.gatk/OPTIMIST-0020-01A-SS-001.dedupped.realigned.recal.bam -tumor OPTIMIST-0020-01A-SS-001 -I /project/gccri/OPTIMIST/analysis/DNA/2.gatk/OPTIMIST-0020-10A-SS-001.dedupped.realigned.recal.bam -normal OPTIMIST-0020-10A-SS-001 --germline-resource /home/hef/Data/files_liding/mutect/af-only-gnomad.hg38.vcf.gz --panel-of-normals /home/hef/Data/files_liding/mutect/gatk4_mutect2_4136_pon.vcf.gz -XL /home/hef/Data/hg38/hg38.centromere_telomere.bed -O /project/gccri/OPTIMIST/analysis/DNA/4.cnv/pureCN/OPTIMIST-0020-01A-SS-001/OPTIMIST-0020-01A-SS-001.raw.vcf --genotype-germline-sites true --genotype-pon-sites true\n",
    "`\n",
    "\n",
    "Run pureCN:\n",
    "\n",
    "`\n",
    "Rscript /home/hef/Tools/miniconda3/lib/R/library/PureCN/extdata/PureCN.R --out /project/gccri/OPTIMIST/analysis/DNA/4.cnv/pureCN/OPTIMIST-0020-01A-SS-001 --sampleid OPTIMIST-0020-01A-SS-001 --tumor /project/gccri/OPTIMIST/analysis/DNA/4.cnv/cnvkit/OPTIMIST-0020-01A-SS-001/OPTIMIST-0020-01A-SS-001.T.cnr --seg-file /project/gccri/OPTIMIST/analysis/DNA/4.cnv/pureCN/OPTIMIST-0020-01A-SS-001/OPTIMIST-0020-01A-SS-001.seg --mapping-bias-file /project/gccri/CPRIT_PDX/hef_folder/5.CNV/pureCN/WES_mapping_bias.rds --vcf /project/gccri/OPTIMIST/analysis/DNA/4.cnv/pureCN/OPTIMIST-0020-01A-SS-002/OPTIMIST-0020-01A-SS-002.raw.vcf --snp-blacklist /project/gccri/CPRIT_PDX/hef_folder/5.CNV/pureCN/hg38_simpleRepeats.bed --genome hg38 --fun-segmentation none --force --post-optimize --seed 123 --sex ?\n",
    "`"
   ]
  }
 ],
 "metadata": {
  "kernelspec": {
   "display_name": "Python 3",
   "language": "python",
   "name": "python3"
  },
  "language_info": {
   "codemirror_mode": {
    "name": "ipython",
    "version": 3
   },
   "file_extension": ".py",
   "mimetype": "text/x-python",
   "name": "python",
   "nbconvert_exporter": "python",
   "pygments_lexer": "ipython3",
   "version": "3.8.12"
  },
  "toc": {
   "base_numbering": 1,
   "nav_menu": {},
   "number_sections": true,
   "sideBar": true,
   "skip_h1_title": false,
   "title_cell": "Table of Contents",
   "title_sidebar": "Contents",
   "toc_cell": false,
   "toc_position": {},
   "toc_section_display": true,
   "toc_window_display": true
  },
  "varInspector": {
   "cols": {
    "lenName": 16,
    "lenType": 16,
    "lenVar": 40
   },
   "kernels_config": {
    "python": {
     "delete_cmd_postfix": "",
     "delete_cmd_prefix": "del ",
     "library": "var_list.py",
     "varRefreshCmd": "print(var_dic_list())"
    },
    "r": {
     "delete_cmd_postfix": ") ",
     "delete_cmd_prefix": "rm(",
     "library": "var_list.r",
     "varRefreshCmd": "cat(var_dic_list()) "
    }
   },
   "types_to_exclude": [
    "module",
    "function",
    "builtin_function_or_method",
    "instance",
    "_Feature"
   ],
   "window_display": false
  }
 },
 "nbformat": 4,
 "nbformat_minor": 5
}
